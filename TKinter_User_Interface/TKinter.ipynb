{
 "cells": [
  {
   "cell_type": "code",
   "execution_count": 12,
   "metadata": {},
   "outputs": [],
   "source": [
    "from tkinter import *\n",
    "from tkinter.ttk import *\n",
    "from PIL import ImageTk, Image\n",
    "from keras.models import load_model\n",
    "model = load_model('final_noisy')\n",
    "with open(\"lab_noisy.txt\", 'r') as f:\n",
    "    lab = [line.rstrip('\\n') for line in f]\n",
    "import librosa\n",
    "import numpy as np\n",
    "import os\n",
    "import cv2\n",
    "from playsound import playsound\n"
   ]
  },
  {
   "cell_type": "code",
   "execution_count": 26,
   "metadata": {},
   "outputs": [
    {
     "name": "stdout",
     "output_type": "stream",
     "text": [
      "Accordion\n"
     ]
    }
   ],
   "source": [
    "window = Tk()\n",
    "\n",
    "window.title(\"Sound Maven\")\n",
    "\n",
    "\n",
    "window.geometry('1000x1000')\n",
    "window.configure(background='PeachPuff')\n",
    "\n",
    "\n",
    "res=\"\"\n",
    "\n",
    "lbl = Label(window, text=\"Sound Maven\", font=(\"georgia\", 30,\"bold\"),background=\"PeachPuff\")\n",
    "#lbl.grid(column=0, row=0)\n",
    "lbl.place(relx=0.5, rely=0.1, anchor=CENTER)\n",
    "combo=dropdown()\n",
    "def clicked():\n",
    "\n",
    "    af = combo.get()\n",
    "    res= got(af)\n",
    "    lbl2 = Label(window, text=res, font=(\"Arial Bold\", 20,\"bold\"),background=\"PeachPuff\",borderwidth=2, relief=\"groove\")\n",
    "    lbl2.place(relx=0.5, rely=0.4, anchor=CENTER)\n",
    "    \n",
    "    print(res)\n",
    "    \n",
    "btn = Button(window, text=\"Submit\", command=clicked,underline=2)\n",
    "btn.place(relx=0.5, rely=0.3, anchor=CENTER,height=50,width=200)\n",
    "window.mainloop()"
   ]
  },
  {
   "cell_type": "code",
   "execution_count": null,
   "metadata": {},
   "outputs": [],
   "source": []
  },
  {
   "cell_type": "code",
   "execution_count": 13,
   "metadata": {},
   "outputs": [],
   "source": [
    "def dropdown():\n",
    "    file=open(\"C:\\\\Users\\\\Kartikay Bansal\\\\Project III Sem\\\\input\\\\freesound-audio-tagging-2019\\\\train_noisy.csv\")\n",
    "    ar=[]\n",
    "    for i in file:\n",
    "        ar.append(i.split(\",\")[0])\n",
    "    ar=ar[1:]\n",
    "    v=\"\"\n",
    "    combo = Combobox(window,textvariable=v)\n",
    "    combo['values']= (*ar,\"Choose The Audio File\")\n",
    "    combo.current(len(combo['values'])-1) #set the selected item\n",
    "    combo.place(relx=0.5, rely=0.2, anchor=CENTER,height=50,width=200)\n",
    "    #combo.grid(column=0, row=1)\n",
    "    return combo"
   ]
  },
  {
   "cell_type": "code",
   "execution_count": 14,
   "metadata": {},
   "outputs": [],
   "source": [
    "def got(a):\n",
    "    file_name = \"C:\\\\Users\\\\Kartikay Bansal\\\\Project III Sem\\\\input\\\\freesound-audio-tagging-2019\\\\train_noisy\\\\\"+a\n",
    "    playsound(file_name)\n",
    "    #C:/Users/Kartikay Bansal/Project III Sem/input/freesound-audio-tagging-2019\n",
    "    test_X, sample_rate = librosa.load(file_name,res_type='kaiser_fast')\n",
    "    mfccs = np.mean(librosa.feature.mfcc(y=test_X, sr=sample_rate, n_mfcc=40).T,axis=0)\n",
    "    test_X = np.array(mfccs)\n",
    "    return getPredictedLabel(test_X)"
   ]
  },
  {
   "cell_type": "code",
   "execution_count": 15,
   "metadata": {},
   "outputs": [],
   "source": [
    "def getPredictedLabel(test_X):\n",
    "    first_image_id = 0\n",
    "    return sorted(set(lab))[np.argmax(model.predict(test_X.reshape(1, -1))[first_image_id])]\n",
    "    "
   ]
  },
  {
   "cell_type": "code",
   "execution_count": 40,
   "metadata": {},
   "outputs": [],
   "source": []
  },
  {
   "cell_type": "code",
   "execution_count": 42,
   "metadata": {},
   "outputs": [],
   "source": []
  },
  {
   "cell_type": "code",
   "execution_count": null,
   "metadata": {},
   "outputs": [],
   "source": []
  },
  {
   "cell_type": "code",
   "execution_count": 37,
   "metadata": {},
   "outputs": [],
   "source": []
  },
  {
   "cell_type": "code",
   "execution_count": 36,
   "metadata": {},
   "outputs": [],
   "source": []
  },
  {
   "cell_type": "code",
   "execution_count": 90,
   "metadata": {},
   "outputs": [],
   "source": [
    "# from tkinter import *\n",
    "# from PIL import ImageTk, Image\n",
    "# from tkinter import filedialog\n",
    "# import os\n",
    "\n",
    "# root = Tk()\n",
    "# root.geometry(\"550x300+300+150\")\n",
    "# root.resizable(width=True, height=True)\n",
    "\n",
    "# def openfn():\n",
    "#     filename = filedialog.askopenfilename(title='open')\n",
    "#     return filename\n",
    "# def open_img():\n",
    "#     x = openfn()\n",
    "#     img = Image.open(x)\n",
    "#     img = img.resize((250, 250), Image.ANTIALIAS)\n",
    "#     img = ImageTk.PhotoImage(img)\n",
    "#     panel = Label(root, image=img)\n",
    "#     panel.image = img\n",
    "#     panel.pack()\n",
    "\n",
    "# btn = Button(root, text='open image', command=open_img).pack()\n",
    "\n",
    "# root.mainloop()"
   ]
  },
  {
   "cell_type": "code",
   "execution_count": null,
   "metadata": {},
   "outputs": [],
   "source": [
    "# from tkinter import *\n",
    "# from tkinter.ttk import *\n",
    "# window = Tk()\n",
    "# window.title(\"Welcome to LikeGeeks app\")\n",
    "# window.geometry('350x200')\n",
    "# combo = Combobox(window)\n",
    "# combo['values']= (*ar,\"Choose The Audio File\")\n",
    "# combo.current(len(combo['values'])-1) #set the selected item\n",
    "# combo.grid(column=0, row=0)\n",
    "# window.mainloop()"
   ]
  }
 ],
 "metadata": {
  "kernelspec": {
   "display_name": "Python 3",
   "language": "python",
   "name": "python3"
  },
  "language_info": {
   "codemirror_mode": {
    "name": "ipython",
    "version": 3
   },
   "file_extension": ".py",
   "mimetype": "text/x-python",
   "name": "python",
   "nbconvert_exporter": "python",
   "pygments_lexer": "ipython3",
   "version": "3.6.9"
  }
 },
 "nbformat": 4,
 "nbformat_minor": 2
}
